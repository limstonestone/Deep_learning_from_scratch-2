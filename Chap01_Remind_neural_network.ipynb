{
  "nbformat": 4,
  "nbformat_minor": 0,
  "metadata": {
    "colab": {
      "name": "Chap01_Remind_neural_network.ipynb",
      "provenance": [],
      "collapsed_sections": [],
      "authorship_tag": "ABX9TyOf9CTNKj9z13906MZJTDrM"
    },
    "kernelspec": {
      "name": "python3",
      "display_name": "Python 3"
    },
    "language_info": {
      "name": "python"
    },
    "accelerator": "GPU"
  },
  "cells": [
    {
      "cell_type": "code",
      "source": [
        "from google.colab import drive\n",
        "drive.mount('/content/drive')"
      ],
      "metadata": {
        "colab": {
          "base_uri": "https://localhost:8080/"
        },
        "id": "QrfGXCJ_KCDg",
        "outputId": "e78dc5a9-5771-4142-bb74-397b62773aa7"
      },
      "execution_count": 1,
      "outputs": [
        {
          "output_type": "stream",
          "name": "stdout",
          "text": [
            "Mounted at /content/drive\n"
          ]
        }
      ]
    },
    {
      "cell_type": "markdown",
      "source": [
        "# **수학과 파이썬 복습**"
      ],
      "metadata": {
        "id": "OcG78v9n2D7V"
      }
    },
    {
      "cell_type": "markdown",
      "source": [
        "## **벡터와 행렬**"
      ],
      "metadata": {
        "id": "HJWguo1331cq"
      }
    },
    {
      "cell_type": "code",
      "source": [
        "import numpy as np\n",
        "x = np.array([1, 2, 3])\n",
        "print(x.__class__,'\\n',x.shape,'\\n',x.ndim) # 클래스 이름 표시"
      ],
      "metadata": {
        "colab": {
          "base_uri": "https://localhost:8080/"
        },
        "id": "ogXMjxqM2jbs",
        "outputId": "487f1931-9d8e-4f42-a53c-f202424910c5"
      },
      "execution_count": 2,
      "outputs": [
        {
          "output_type": "stream",
          "name": "stdout",
          "text": [
            "<class 'numpy.ndarray'> \n",
            " (3,) \n",
            " 1\n"
          ]
        }
      ]
    },
    {
      "cell_type": "code",
      "source": [
        "W = np.array([[1,2,3], [4,5,6]])\n",
        "print(W.__class__,'\\n',W.shape,'\\n',W.ndim) # 클래스 이름 표시"
      ],
      "metadata": {
        "colab": {
          "base_uri": "https://localhost:8080/"
        },
        "id": "MMIqNrsA3BUR",
        "outputId": "f8dcac61-2944-4a23-e40b-02241bf6af86"
      },
      "execution_count": 3,
      "outputs": [
        {
          "output_type": "stream",
          "name": "stdout",
          "text": [
            "<class 'numpy.ndarray'> \n",
            " (2, 3) \n",
            " 2\n"
          ]
        }
      ]
    },
    {
      "cell_type": "markdown",
      "source": [
        "## **행렬의 원소별 연산**"
      ],
      "metadata": {
        "id": "rdFyscW836Am"
      }
    },
    {
      "cell_type": "code",
      "source": [
        "X = np.array([[0,1,2], [3,4,5]])\n",
        "W + X"
      ],
      "metadata": {
        "colab": {
          "base_uri": "https://localhost:8080/"
        },
        "id": "h-zkgzNe3OK_",
        "outputId": "67348915-1317-4a4e-befd-ad8a443b6186"
      },
      "execution_count": 4,
      "outputs": [
        {
          "output_type": "execute_result",
          "data": {
            "text/plain": [
              "array([[ 1,  3,  5],\n",
              "       [ 7,  9, 11]])"
            ]
          },
          "metadata": {},
          "execution_count": 4
        }
      ]
    },
    {
      "cell_type": "code",
      "source": [
        "W * X"
      ],
      "metadata": {
        "colab": {
          "base_uri": "https://localhost:8080/"
        },
        "id": "J87MY3eL3oLW",
        "outputId": "79b2c7ea-a0d9-40f5-d394-7ca19a5893f3"
      },
      "execution_count": 5,
      "outputs": [
        {
          "output_type": "execute_result",
          "data": {
            "text/plain": [
              "array([[ 0,  2,  6],\n",
              "       [12, 20, 30]])"
            ]
          },
          "metadata": {},
          "execution_count": 5
        }
      ]
    },
    {
      "cell_type": "markdown",
      "source": [
        "## **브로드캐스트**"
      ],
      "metadata": {
        "id": "_9-DkzzG39Nv"
      }
    },
    {
      "cell_type": "code",
      "source": [
        "A = np.array([[1,2], [3,4]])\n",
        "A * 10"
      ],
      "metadata": {
        "colab": {
          "base_uri": "https://localhost:8080/"
        },
        "id": "E4Z6LRAu3pDs",
        "outputId": "13b1f9a9-789d-4377-9afe-80e942361e7b"
      },
      "execution_count": 6,
      "outputs": [
        {
          "output_type": "execute_result",
          "data": {
            "text/plain": [
              "array([[10, 20],\n",
              "       [30, 40]])"
            ]
          },
          "metadata": {},
          "execution_count": 6
        }
      ]
    },
    {
      "cell_type": "code",
      "source": [
        "A = np.array([[1,2], [3,4]])\n",
        "b = np.array([10, 20])\n",
        "A * b # 영리하게 확장"
      ],
      "metadata": {
        "colab": {
          "base_uri": "https://localhost:8080/"
        },
        "id": "6MXj2MOY4BkW",
        "outputId": "42c35986-1d4c-4e33-b914-1ea69df432a9"
      },
      "execution_count": 7,
      "outputs": [
        {
          "output_type": "execute_result",
          "data": {
            "text/plain": [
              "array([[10, 40],\n",
              "       [30, 80]])"
            ]
          },
          "metadata": {},
          "execution_count": 7
        }
      ]
    },
    {
      "cell_type": "markdown",
      "source": [
        "## **벡터의 내적과 행렬의 곱**"
      ],
      "metadata": {
        "id": "Zyv-dmgm4MBH"
      }
    },
    {
      "cell_type": "code",
      "source": [
        "# 벡터의 내적\n",
        "a = np.array([1, 2, 3])\n",
        "b = np.array([4, 5, 6])\n",
        "np.dot(a, b)"
      ],
      "metadata": {
        "colab": {
          "base_uri": "https://localhost:8080/"
        },
        "id": "qQBl7PNE4PQi",
        "outputId": "28988fa5-794c-4711-d52e-94f68b6b3362"
      },
      "execution_count": 8,
      "outputs": [
        {
          "output_type": "execute_result",
          "data": {
            "text/plain": [
              "32"
            ]
          },
          "metadata": {},
          "execution_count": 8
        }
      ]
    },
    {
      "cell_type": "code",
      "source": [
        "# 행렬의 곱\n",
        "A = np.array([[1,2], [3,4]])\n",
        "B = np.array([[5,6], [7,8]])\n",
        "np.matmul(A, B)"
      ],
      "metadata": {
        "colab": {
          "base_uri": "https://localhost:8080/"
        },
        "id": "dfLK8AsI4f_O",
        "outputId": "773bc6a0-4aed-44ef-8c00-b2ea6d4c919a"
      },
      "execution_count": 9,
      "outputs": [
        {
          "output_type": "execute_result",
          "data": {
            "text/plain": [
              "array([[19, 22],\n",
              "       [43, 50]])"
            ]
          },
          "metadata": {},
          "execution_count": 9
        }
      ]
    },
    {
      "cell_type": "markdown",
      "source": [
        "# **신경망의 추론**"
      ],
      "metadata": {
        "id": "pWnOgrjh4oL7"
      }
    },
    {
      "cell_type": "markdown",
      "source": [
        "## **신경망 추론 전체 그림**"
      ],
      "metadata": {
        "id": "LzQUXhv15O-Y"
      }
    },
    {
      "cell_type": "code",
      "source": [
        "# 신경망 추론 구현하기\n",
        "\n",
        "def sigmoid(x):             # 시그모이드 함수 구현\n",
        "    return 1 / (1 + np.exp(-x))\n",
        "\n",
        "x = np.random.randn(10, 2)  # 입력(미니배치)\n",
        "W1 = np.random.randn(2, 4)  # 가중치\n",
        "b1 = np.random.randn(4)     # 편향\n",
        "W2 = np.random.randn(4, 3)\n",
        "b2 = np.random.randn(3)\n",
        "\n",
        "h = np.matmul(x, W1) + b1   # 은닉층\n",
        "a = sigmoid(h)              # 활성화\n",
        "s = np.matmul(a, W2) + b2   # 출력(점수)"
      ],
      "metadata": {
        "id": "Oom_aEqE7U9e"
      },
      "execution_count": 10,
      "outputs": []
    },
    {
      "cell_type": "markdown",
      "source": [
        "## **계층으로 클래스화 및 순전파 구현**"
      ],
      "metadata": {
        "id": "JgyRX_yt7pV3"
      }
    },
    {
      "cell_type": "code",
      "source": [
        "# Sigmoid 계층 구현\n",
        "\n",
        "class Sigmoid:\n",
        "    def __init__(self):\n",
        "        self.params = []\n",
        "\n",
        "    def forward(self, x):\n",
        "        return 1 / (1 + np.exp(-x))"
      ],
      "metadata": {
        "id": "guIUvWUI8Mgj"
      },
      "execution_count": 11,
      "outputs": []
    },
    {
      "cell_type": "code",
      "source": [
        "# 완전연결계층인 Affine 계층 구현\n",
        "\n",
        "class Affine:\n",
        "    def __init__(self, W, b):\n",
        "        self.params = [W, b]\n",
        "\n",
        "    def forward(self, x):\n",
        "        W, b = self.params\n",
        "        out = np.matmul(x, W) + b\n",
        "        return out"
      ],
      "metadata": {
        "id": "6n2bAuWt8zxp"
      },
      "execution_count": 12,
      "outputs": []
    },
    {
      "cell_type": "code",
      "source": [
        "# TwoLayerNet 구현\n",
        "\n",
        "class TwoLayerNet:\n",
        "    def __init__(self, input_size, hidden_size, output_size):\n",
        "        I, H, O = input_size, hidden_size, output_size\n",
        "\n",
        "        # 가중치와 편향 초기화\n",
        "        W1 = np.random.randn(I, H)\n",
        "        b1 = np.random.randn(H)\n",
        "        W2 = np.random.randn(H, O)\n",
        "        b2 = np.random.randn(O)\n",
        "\n",
        "        # 계층 생성\n",
        "        self.layers = [Affine(W1, b1), Sigmoid(), Affine(W2, b2)]\n",
        "\n",
        "        # 모든 가중치를 리스트에 모은다.\n",
        "        self.params = []\n",
        "        for layer in self.layers:\n",
        "            self.params += layer.params\n",
        "\n",
        "    def predict(self, x):\n",
        "        for layer in self.layers:\n",
        "            x = layer.forward(x)\n",
        "        return x"
      ],
      "metadata": {
        "id": "p71iT58H9Llr"
      },
      "execution_count": 13,
      "outputs": []
    },
    {
      "cell_type": "code",
      "source": [
        "# 리스트 결합의 예시\n",
        "\n",
        "a = ['A', 'B']\n",
        "a += ['C', 'D']\n",
        "a"
      ],
      "metadata": {
        "colab": {
          "base_uri": "https://localhost:8080/"
        },
        "id": "nd3cSXm0-wOQ",
        "outputId": "fa03ddef-34e7-49e5-9009-2f23187ebb41"
      },
      "execution_count": 14,
      "outputs": [
        {
          "output_type": "execute_result",
          "data": {
            "text/plain": [
              "['A', 'B', 'C', 'D']"
            ]
          },
          "metadata": {},
          "execution_count": 14
        }
      ]
    },
    {
      "cell_type": "code",
      "source": [
        "# 신경망의 추론 수행\n",
        "\n",
        "x = np.random.randn(10, 2)\n",
        "model = TwoLayerNet(2, 4, 3)\n",
        "s = model.predict"
      ],
      "metadata": {
        "id": "DYuQ4_i-_GaA"
      },
      "execution_count": 15,
      "outputs": []
    },
    {
      "cell_type": "markdown",
      "source": [
        "# **신경망의 학습**"
      ],
      "metadata": {
        "id": "oKHSdrKS_RDV"
      }
    },
    {
      "cell_type": "markdown",
      "source": [
        "## **계산 그래프**"
      ],
      "metadata": {
        "id": "7sBq8sKyDceM"
      }
    },
    {
      "cell_type": "code",
      "source": [
        "# Repeat노트 \n",
        "\n",
        "D, N = 8,7\n",
        "x = np.random.randn(1, D)               # 입력\n",
        "y = np.repeat(x, N, axis=0)             # 순전파\n",
        "dy = np.random.randn(N, D)              # 무작위 기울기\n",
        "dx = np.sum(dy, axis=0, keepdims=True)  # 역전파"
      ],
      "metadata": {
        "id": "2ocQ16JLDiw5"
      },
      "execution_count": 16,
      "outputs": []
    },
    {
      "cell_type": "code",
      "source": [
        "# Sum 노드\n",
        "\n",
        "D, N = 8, 7\n",
        "x = np.random.randn(N, D)               # 입력\n",
        "y = np.sum(x, axis=0, keepdims=True)    # 순전파\n",
        "\n",
        "dy = np.random.randn(1, D)              # 무작위 기울기\n",
        "dx = np.repeat(dy, N, axis=0)           # 역전파"
      ],
      "metadata": {
        "id": "z7yvlynkD2VS"
      },
      "execution_count": 17,
      "outputs": []
    },
    {
      "cell_type": "code",
      "source": [
        "# MatMul 노드 계층 구현\n",
        "\n",
        "class MatMul:\n",
        "    def __init__(self, W):\n",
        "        self.params = [W]\n",
        "        self.grads = [np.zeros_like(W)]\n",
        "        self.x = None\n",
        "\n",
        "    def forward(self, x):\n",
        "        W, = self.params\n",
        "        out = np.matmul(x, W)\n",
        "        self.x = x\n",
        "        return out\n",
        "\n",
        "    def backward(self, dout):\n",
        "        W, = self.params\n",
        "        dx = np.matmul(dout, W.T)\n",
        "        dW = np.matmul(self.x.T, dout)\n",
        "        self.grads[0][...] = dW             # [...]은 넘파이 배열이 가리키는 메모리 위치(메모리 주소)를 고정시킨 다음, 그 위치에 원소들을 덮어쓴다. '깊은 복사' 라고도 한다.\n",
        "        return dx"
      ],
      "metadata": {
        "id": "VNlhqJWLD7A-"
      },
      "execution_count": 18,
      "outputs": []
    },
    {
      "cell_type": "markdown",
      "source": [
        "## **기울기 도출과 역전파 구현**"
      ],
      "metadata": {
        "id": "8wNHeSYbFkGD"
      }
    },
    {
      "cell_type": "code",
      "source": [
        "# Sigmoid 계층 구현\n",
        "\n",
        "class Sigmoid:\n",
        "    def __init__(self):\n",
        "        self.params, self.grads = [], []\n",
        "        self.out = None\n",
        "\n",
        "    def forward(self, x):\n",
        "        out = 1 / (1 + np.exp(-x))\n",
        "        self.out = out\n",
        "        return out\n",
        "\n",
        "    def backward(self, dout):\n",
        "        dx = dout * (1.0 - self.out) * self.out\n",
        "        return dx"
      ],
      "metadata": {
        "id": "Kbe97HgmGeyW"
      },
      "execution_count": 19,
      "outputs": []
    },
    {
      "cell_type": "code",
      "source": [
        "# Affine 계층 구현\n",
        "\n",
        "class Affine:\n",
        "    def __init__(self, W, b):\n",
        "        self.params = [W, b]\n",
        "        self.grads = [np.zeros_like(W), np.zeros_like(b)]\n",
        "        self.x = None\n",
        "\n",
        "    def forward(self, x):\n",
        "        W, b = self.params\n",
        "        out = np.matmul(x, W) + b\n",
        "        self.x = x\n",
        "        return out\n",
        "\n",
        "    def backward(self, dout):\n",
        "        W, b = self.params\n",
        "        dx = np.matmul(dout, W.T)\n",
        "        dW = np.matmul(self.x.T, dout)\n",
        "        db = np.sum(dout, axis=0)\n",
        "\n",
        "        self.grads[0][...] = dW\n",
        "        self.grads[1][...] = db\n",
        "        return dx"
      ],
      "metadata": {
        "id": "XRNm4HtkHBJG"
      },
      "execution_count": 20,
      "outputs": []
    },
    {
      "cell_type": "code",
      "source": [
        "# Softmax with Loss 계층 구현\n",
        "\n",
        "class SoftmaxWithLoss:\n",
        "    def __init__(self):\n",
        "        self.params, self.grads = [], []\n",
        "        self.y = None  # softmax의 출력\n",
        "        self.t = None  # 정답 레이블\n",
        "\n",
        "    def forward(self, x, t):\n",
        "        self.t = t\n",
        "        self.y = softmax(x)\n",
        "\n",
        "        # 정답 레이블이 원핫 벡터일 경우 정답의 인덱스로 변환\n",
        "        if self.t.size == self.y.size:\n",
        "            self.t = self.t.argmax(axis=1)\n",
        "\n",
        "        loss = cross_entropy_error(self.y, self.t)\n",
        "        return loss\n",
        "\n",
        "    def backward(self, dout=1):\n",
        "        batch_size = self.t.shape[0]\n",
        "\n",
        "        dx = self.y.copy()\n",
        "        dx[np.arange(batch_size), self.t] -= 1\n",
        "        dx *= dout\n",
        "        dx = dx / batch_size\n",
        "\n",
        "        return dx"
      ],
      "metadata": {
        "id": "YivA1MUBHwFr"
      },
      "execution_count": 21,
      "outputs": []
    },
    {
      "cell_type": "markdown",
      "source": [
        "## **가중치 갱신**"
      ],
      "metadata": {
        "id": "-cLJZgWbIiqR"
      }
    },
    {
      "cell_type": "code",
      "source": [
        "# SGD 구현\n",
        "\n",
        "class SGD:\n",
        "    def __init__(self, lr=0.01):\n",
        "        self.lr = lr\n",
        "\n",
        "    def update(self, params, grads):\n",
        "        for i in range(len(params)):\n",
        "            params[i] -= self.lr * grads[i]"
      ],
      "metadata": {
        "id": "_TqEXRqcImLq"
      },
      "execution_count": 22,
      "outputs": []
    },
    {
      "cell_type": "markdown",
      "source": [
        "* SGD를 통한 신경망의 매개변수 갱신 예시(의사코드)\n",
        "\n",
        "```\n",
        "model = TwoLayerNet(...)\n",
        "optimizer = SGD()\n",
        "\n",
        "for i in range(10000):\n",
        "    ...\n",
        "    x_batch, t_batch = get_mini_batch()         # 미니배치 획득\n",
        "    loss = model.forward(x_batch, t_batch)\n",
        "    model.backward()\n",
        "    optimizer.update(model.params, model.grads)\n",
        "    ...\n",
        "```"
      ],
      "metadata": {
        "id": "eyOZVpHMJQUu"
      }
    },
    {
      "cell_type": "markdown",
      "source": [
        "# **신경망으로 문제를 풀다**"
      ],
      "metadata": {
        "id": "hjIqjzvvJn2f"
      }
    },
    {
      "cell_type": "markdown",
      "source": [
        "## **스파이럴 데이터셋**"
      ],
      "metadata": {
        "id": "D6RMCoBrJ5p8"
      }
    },
    {
      "cell_type": "code",
      "source": [
        "my_path = '/content/drive/MyDrive/밑바닥부터시작하는딥러닝2/deep-learning-from-scratch-2-master'\n",
        "\n",
        "import sys\n",
        "sys.path.append(my_path)\n",
        "from dataset import spiral\n",
        "import matplotlib.pyplot as plt\n",
        "\n",
        "x, t = spiral.load_data()\n",
        "print('x', x.shape)\n",
        "print('t', t.shape)"
      ],
      "metadata": {
        "colab": {
          "base_uri": "https://localhost:8080/"
        },
        "id": "bU3IPTS_J8o-",
        "outputId": "732c2d9b-bbf2-4530-edc8-03b6be4445f2"
      },
      "execution_count": 23,
      "outputs": [
        {
          "output_type": "stream",
          "name": "stdout",
          "text": [
            "x (300, 2)\n",
            "t (300, 3)\n"
          ]
        }
      ]
    },
    {
      "cell_type": "code",
      "source": [
        "# 산점도 확인\n",
        "\n",
        "N = 100\n",
        "CLS_NUM = 3\n",
        "markers = ['o', 'x', '^']\n",
        "for i in range(CLS_NUM):\n",
        "    plt.scatter(x[i*N:(i+1)*N, 0], x[i*N:(i+1)*N, 1], s=40, marker=markers[i])\n",
        "plt.show()"
      ],
      "metadata": {
        "colab": {
          "base_uri": "https://localhost:8080/",
          "height": 265
        },
        "id": "Bbxb5-qJKl88",
        "outputId": "33e69893-074e-4065-e6df-78e5d017c7a9"
      },
      "execution_count": 24,
      "outputs": [
        {
          "output_type": "display_data",
          "data": {
            "image/png": "[encoded data removed]",
            "text/plain": [
              "<Figure size 432x288 with 1 Axes>"
            ]
          },
          "metadata": {
            "needs_background": "light"
          }
        }
      ]
    },
    {
      "cell_type": "markdown",
      "source": [
        "## **신경망 구현**"
      ],
      "metadata": {
        "id": "Pxy_alXDLm8O"
      }
    },
    {
      "cell_type": "code",
      "source": [
        "from common.layers import Affine, Sigmoid, SoftmaxWithLoss\n",
        "\n",
        "class TwoLayerNet:\n",
        "    def __init__(self, input_size, hidden_size, output_size):\n",
        "        I, H, O = input_size, hidden_size, output_size\n",
        "\n",
        "        # 가중치와 편향 초기화\n",
        "        W1 = 0.01 * np.random.randn(I, H)\n",
        "        b1 = np.zeros(H)\n",
        "        W2 = 0.01 * np.random.randn(H, O)\n",
        "        b2 = np.zeros(O)\n",
        "\n",
        "        # 계층 생성\n",
        "        self.layers = [\n",
        "            Affine(W1, b1),\n",
        "            Sigmoid(),\n",
        "            Affine(W2, b2)\n",
        "        ]\n",
        "        self.loss_layer = SoftmaxWithLoss()\n",
        "\n",
        "        # 모든 가중치와 기울기를 리스트에 모은다.\n",
        "        self.params, self.grads = [], []\n",
        "        for layer in self.layers:\n",
        "            self.params += layer.params\n",
        "            self.grads += layer.grads\n",
        "\n",
        "    def predict(self, x):\n",
        "        for layer in self.layers:\n",
        "            x = layer.forward(x)\n",
        "        return x\n",
        "\n",
        "    def forward(self, x, t):\n",
        "        score = self.predict(x)\n",
        "        loss = self.loss_layer.forward(score, t)\n",
        "        return loss\n",
        "\n",
        "    def backward(self, dout=1):\n",
        "        dout = self.loss_layer.backward(dout)\n",
        "        for layer in reversed(self.layers):\n",
        "            dout = layer.backward(dout)\n",
        "        return dout"
      ],
      "metadata": {
        "id": "3jmeWmEsOpWQ"
      },
      "execution_count": 25,
      "outputs": []
    },
    {
      "cell_type": "markdown",
      "source": [
        "## **학습용 코드**"
      ],
      "metadata": {
        "id": "ba1EVrRjPaB4"
      }
    },
    {
      "cell_type": "code",
      "source": [
        "# 하이퍼파라미터 설정\n",
        "max_epoch = 300\n",
        "batch_size = 30\n",
        "hidden_size = 10\n",
        "learning_rate = 1.0\n",
        "\n",
        "# 데이터 읽기, 모델과 옵티마이저 생성\n",
        "x, t = spiral.load_data()\n",
        "model = TwoLayerNet(input_size=2, hidden_size=hidden_size, output_size=3)\n",
        "optimizer = SGD(lr=learning_rate)\n",
        "\n",
        "# 학습에 사용하는 변수\n",
        "data_size = len(x)\n",
        "max_iters = data_size // batch_size\n",
        "total_loss = 0\n",
        "loss_count = 0\n",
        "loss_list = []\n",
        "\n",
        "for epoch in range(max_epoch):\n",
        "    # 데이터 뒤섞기\n",
        "    idx = np.random.permutation(data_size)\n",
        "    x = x[idx]\n",
        "    t = t[idx]\n",
        "\n",
        "    for iters in range(max_iters):\n",
        "        batch_x = x[iters*batch_size:(iters+1)*batch_size]\n",
        "        batch_t = t[iters*batch_size:(iters+1)*batch_size]\n",
        "\n",
        "        # 기울기를 구해 매개변수 갱신\n",
        "        loss = model.forward(batch_x, batch_t)\n",
        "        model.backward()\n",
        "        optimizer.update(model.params, model.grads)\n",
        "\n",
        "        total_loss += loss\n",
        "        loss_count += 1\n",
        "\n",
        "        # 정기적으로 학습 경과 출력\n",
        "        if (iters+1) % 10 == 0:\n",
        "            avg_loss = total_loss / loss_count\n",
        "            print('| 에폭 %d |  반복 %d / %d | 손실 %.2f'\n",
        "                  % (epoch + 1, iters + 1, max_iters, avg_loss))\n",
        "            loss_list.append(avg_loss)\n",
        "            total_loss, loss_count = 0, 0"
      ],
      "metadata": {
        "colab": {
          "base_uri": "https://localhost:8080/"
        },
        "id": "VR8lEnIuO5OW",
        "outputId": "5b9fe385-1c8c-493a-81d8-ff0348646920"
      },
      "execution_count": 26,
      "outputs": [
        {
          "output_type": "stream",
          "name": "stdout",
          "text": [
            "| 에폭 1 |  반복 10 / 10 | 손실 1.13\n",
            "| 에폭 2 |  반복 10 / 10 | 손실 1.13\n",
            "| 에폭 3 |  반복 10 / 10 | 손실 1.12\n",
            "| 에폭 4 |  반복 10 / 10 | 손실 1.12\n",
            "| 에폭 5 |  반복 10 / 10 | 손실 1.11\n",
            "| 에폭 6 |  반복 10 / 10 | 손실 1.14\n",
            "| 에폭 7 |  반복 10 / 10 | 손실 1.16\n",
            "| 에폭 8 |  반복 10 / 10 | 손실 1.11\n",
            "| 에폭 9 |  반복 10 / 10 | 손실 1.12\n",
            "| 에폭 10 |  반복 10 / 10 | 손실 1.13\n",
            "| 에폭 11 |  반복 10 / 10 | 손실 1.12\n",
            "| 에폭 12 |  반복 10 / 10 | 손실 1.11\n",
            "| 에폭 13 |  반복 10 / 10 | 손실 1.09\n",
            "| 에폭 14 |  반복 10 / 10 | 손실 1.08\n",
            "| 에폭 15 |  반복 10 / 10 | 손실 1.04\n",
            "| 에폭 16 |  반복 10 / 10 | 손실 1.03\n",
            "| 에폭 17 |  반복 10 / 10 | 손실 0.96\n",
            "| 에폭 18 |  반복 10 / 10 | 손실 0.92\n",
            "| 에폭 19 |  반복 10 / 10 | 손실 0.92\n",
            "| 에폭 20 |  반복 10 / 10 | 손실 0.87\n",
            "| 에폭 21 |  반복 10 / 10 | 손실 0.85\n",
            "| 에폭 22 |  반복 10 / 10 | 손실 0.82\n",
            "| 에폭 23 |  반복 10 / 10 | 손실 0.79\n",
            "| 에폭 24 |  반복 10 / 10 | 손실 0.78\n",
            "| 에폭 25 |  반복 10 / 10 | 손실 0.82\n",
            "| 에폭 26 |  반복 10 / 10 | 손실 0.78\n",
            "| 에폭 27 |  반복 10 / 10 | 손실 0.76\n",
            "| 에폭 28 |  반복 10 / 10 | 손실 0.76\n",
            "| 에폭 29 |  반복 10 / 10 | 손실 0.78\n",
            "| 에폭 30 |  반복 10 / 10 | 손실 0.75\n",
            "| 에폭 31 |  반복 10 / 10 | 손실 0.78\n",
            "| 에폭 32 |  반복 10 / 10 | 손실 0.77\n",
            "| 에폭 33 |  반복 10 / 10 | 손실 0.77\n",
            "| 에폭 34 |  반복 10 / 10 | 손실 0.78\n",
            "| 에폭 35 |  반복 10 / 10 | 손실 0.75\n",
            "| 에폭 36 |  반복 10 / 10 | 손실 0.74\n",
            "| 에폭 37 |  반복 10 / 10 | 손실 0.76\n",
            "| 에폭 38 |  반복 10 / 10 | 손실 0.76\n",
            "| 에폭 39 |  반복 10 / 10 | 손실 0.73\n",
            "| 에폭 40 |  반복 10 / 10 | 손실 0.75\n",
            "| 에폭 41 |  반복 10 / 10 | 손실 0.76\n",
            "| 에폭 42 |  반복 10 / 10 | 손실 0.76\n",
            "| 에폭 43 |  반복 10 / 10 | 손실 0.76\n",
            "| 에폭 44 |  반복 10 / 10 | 손실 0.74\n",
            "| 에폭 45 |  반복 10 / 10 | 손실 0.75\n",
            "| 에폭 46 |  반복 10 / 10 | 손실 0.73\n",
            "| 에폭 47 |  반복 10 / 10 | 손실 0.72\n",
            "| 에폭 48 |  반복 10 / 10 | 손실 0.73\n",
            "| 에폭 49 |  반복 10 / 10 | 손실 0.72\n",
            "| 에폭 50 |  반복 10 / 10 | 손실 0.72\n",
            "| 에폭 51 |  반복 10 / 10 | 손실 0.72\n",
            "| 에폭 52 |  반복 10 / 10 | 손실 0.72\n",
            "| 에폭 53 |  반복 10 / 10 | 손실 0.74\n",
            "| 에폭 54 |  반복 10 / 10 | 손실 0.74\n",
            "| 에폭 55 |  반복 10 / 10 | 손실 0.72\n",
            "| 에폭 56 |  반복 10 / 10 | 손실 0.72\n",
            "| 에폭 57 |  반복 10 / 10 | 손실 0.71\n",
            "| 에폭 58 |  반복 10 / 10 | 손실 0.70\n",
            "| 에폭 59 |  반복 10 / 10 | 손실 0.72\n",
            "| 에폭 60 |  반복 10 / 10 | 손실 0.70\n",
            "| 에폭 61 |  반복 10 / 10 | 손실 0.71\n",
            "| 에폭 62 |  반복 10 / 10 | 손실 0.72\n",
            "| 에폭 63 |  반복 10 / 10 | 손실 0.70\n",
            "| 에폭 64 |  반복 10 / 10 | 손실 0.71\n",
            "| 에폭 65 |  반복 10 / 10 | 손실 0.73\n",
            "| 에폭 66 |  반복 10 / 10 | 손실 0.70\n",
            "| 에폭 67 |  반복 10 / 10 | 손실 0.71\n",
            "| 에폭 68 |  반복 10 / 10 | 손실 0.69\n",
            "| 에폭 69 |  반복 10 / 10 | 손실 0.70\n",
            "| 에폭 70 |  반복 10 / 10 | 손실 0.71\n",
            "| 에폭 71 |  반복 10 / 10 | 손실 0.68\n",
            "| 에폭 72 |  반복 10 / 10 | 손실 0.69\n",
            "| 에폭 73 |  반복 10 / 10 | 손실 0.67\n",
            "| 에폭 74 |  반복 10 / 10 | 손실 0.68\n",
            "| 에폭 75 |  반복 10 / 10 | 손실 0.67\n",
            "| 에폭 76 |  반복 10 / 10 | 손실 0.66\n",
            "| 에폭 77 |  반복 10 / 10 | 손실 0.69\n",
            "| 에폭 78 |  반복 10 / 10 | 손실 0.64\n",
            "| 에폭 79 |  반복 10 / 10 | 손실 0.68\n",
            "| 에폭 80 |  반복 10 / 10 | 손실 0.64\n",
            "| 에폭 81 |  반복 10 / 10 | 손실 0.64\n",
            "| 에폭 82 |  반복 10 / 10 | 손실 0.66\n",
            "| 에폭 83 |  반복 10 / 10 | 손실 0.62\n",
            "| 에폭 84 |  반복 10 / 10 | 손실 0.62\n",
            "| 에폭 85 |  반복 10 / 10 | 손실 0.61\n",
            "| 에폭 86 |  반복 10 / 10 | 손실 0.60\n",
            "| 에폭 87 |  반복 10 / 10 | 손실 0.60\n",
            "| 에폭 88 |  반복 10 / 10 | 손실 0.61\n",
            "| 에폭 89 |  반복 10 / 10 | 손실 0.59\n",
            "| 에폭 90 |  반복 10 / 10 | 손실 0.58\n",
            "| 에폭 91 |  반복 10 / 10 | 손실 0.56\n",
            "| 에폭 92 |  반복 10 / 10 | 손실 0.56\n",
            "| 에폭 93 |  반복 10 / 10 | 손실 0.54\n",
            "| 에폭 94 |  반복 10 / 10 | 손실 0.53\n",
            "| 에폭 95 |  반복 10 / 10 | 손실 0.53\n",
            "| 에폭 96 |  반복 10 / 10 | 손실 0.52\n",
            "| 에폭 97 |  반복 10 / 10 | 손실 0.51\n",
            "| 에폭 98 |  반복 10 / 10 | 손실 0.50\n",
            "| 에폭 99 |  반복 10 / 10 | 손실 0.48\n",
            "| 에폭 100 |  반복 10 / 10 | 손실 0.48\n",
            "| 에폭 101 |  반복 10 / 10 | 손실 0.46\n",
            "| 에폭 102 |  반복 10 / 10 | 손실 0.45\n",
            "| 에폭 103 |  반복 10 / 10 | 손실 0.45\n",
            "| 에폭 104 |  반복 10 / 10 | 손실 0.44\n",
            "| 에폭 105 |  반복 10 / 10 | 손실 0.44\n",
            "| 에폭 106 |  반복 10 / 10 | 손실 0.41\n",
            "| 에폭 107 |  반복 10 / 10 | 손실 0.40\n",
            "| 에폭 108 |  반복 10 / 10 | 손실 0.41\n",
            "| 에폭 109 |  반복 10 / 10 | 손실 0.40\n",
            "| 에폭 110 |  반복 10 / 10 | 손실 0.40\n",
            "| 에폭 111 |  반복 10 / 10 | 손실 0.38\n",
            "| 에폭 112 |  반복 10 / 10 | 손실 0.38\n",
            "| 에폭 113 |  반복 10 / 10 | 손실 0.36\n",
            "| 에폭 114 |  반복 10 / 10 | 손실 0.37\n",
            "| 에폭 115 |  반복 10 / 10 | 손실 0.35\n",
            "| 에폭 116 |  반복 10 / 10 | 손실 0.34\n",
            "| 에폭 117 |  반복 10 / 10 | 손실 0.34\n",
            "| 에폭 118 |  반복 10 / 10 | 손실 0.34\n",
            "| 에폭 119 |  반복 10 / 10 | 손실 0.33\n",
            "| 에폭 120 |  반복 10 / 10 | 손실 0.34\n",
            "| 에폭 121 |  반복 10 / 10 | 손실 0.32\n",
            "| 에폭 122 |  반복 10 / 10 | 손실 0.32\n",
            "| 에폭 123 |  반복 10 / 10 | 손실 0.31\n",
            "| 에폭 124 |  반복 10 / 10 | 손실 0.31\n",
            "| 에폭 125 |  반복 10 / 10 | 손실 0.30\n",
            "| 에폭 126 |  반복 10 / 10 | 손실 0.30\n",
            "| 에폭 127 |  반복 10 / 10 | 손실 0.28\n",
            "| 에폭 128 |  반복 10 / 10 | 손실 0.28\n",
            "| 에폭 129 |  반복 10 / 10 | 손실 0.28\n",
            "| 에폭 130 |  반복 10 / 10 | 손실 0.28\n",
            "| 에폭 131 |  반복 10 / 10 | 손실 0.27\n",
            "| 에폭 132 |  반복 10 / 10 | 손실 0.27\n",
            "| 에폭 133 |  반복 10 / 10 | 손실 0.27\n",
            "| 에폭 134 |  반복 10 / 10 | 손실 0.27\n",
            "| 에폭 135 |  반복 10 / 10 | 손실 0.27\n",
            "| 에폭 136 |  반복 10 / 10 | 손실 0.26\n",
            "| 에폭 137 |  반복 10 / 10 | 손실 0.26\n",
            "| 에폭 138 |  반복 10 / 10 | 손실 0.26\n",
            "| 에폭 139 |  반복 10 / 10 | 손실 0.25\n",
            "| 에폭 140 |  반복 10 / 10 | 손실 0.24\n",
            "| 에폭 141 |  반복 10 / 10 | 손실 0.24\n",
            "| 에폭 142 |  반복 10 / 10 | 손실 0.25\n",
            "| 에폭 143 |  반복 10 / 10 | 손실 0.24\n",
            "| 에폭 144 |  반복 10 / 10 | 손실 0.24\n",
            "| 에폭 145 |  반복 10 / 10 | 손실 0.23\n",
            "| 에폭 146 |  반복 10 / 10 | 손실 0.24\n",
            "| 에폭 147 |  반복 10 / 10 | 손실 0.23\n",
            "| 에폭 148 |  반복 10 / 10 | 손실 0.23\n",
            "| 에폭 149 |  반복 10 / 10 | 손실 0.22\n",
            "| 에폭 150 |  반복 10 / 10 | 손실 0.22\n",
            "| 에폭 151 |  반복 10 / 10 | 손실 0.22\n",
            "| 에폭 152 |  반복 10 / 10 | 손실 0.22\n",
            "| 에폭 153 |  반복 10 / 10 | 손실 0.22\n",
            "| 에폭 154 |  반복 10 / 10 | 손실 0.22\n",
            "| 에폭 155 |  반복 10 / 10 | 손실 0.22\n",
            "| 에폭 156 |  반복 10 / 10 | 손실 0.21\n",
            "| 에폭 157 |  반복 10 / 10 | 손실 0.21\n",
            "| 에폭 158 |  반복 10 / 10 | 손실 0.20\n",
            "| 에폭 159 |  반복 10 / 10 | 손실 0.21\n",
            "| 에폭 160 |  반복 10 / 10 | 손실 0.20\n",
            "| 에폭 161 |  반복 10 / 10 | 손실 0.20\n",
            "| 에폭 162 |  반복 10 / 10 | 손실 0.20\n",
            "| 에폭 163 |  반복 10 / 10 | 손실 0.21\n",
            "| 에폭 164 |  반복 10 / 10 | 손실 0.20\n",
            "| 에폭 165 |  반복 10 / 10 | 손실 0.20\n",
            "| 에폭 166 |  반복 10 / 10 | 손실 0.19\n",
            "| 에폭 167 |  반복 10 / 10 | 손실 0.19\n",
            "| 에폭 168 |  반복 10 / 10 | 손실 0.19\n",
            "| 에폭 169 |  반복 10 / 10 | 손실 0.19\n",
            "| 에폭 170 |  반복 10 / 10 | 손실 0.19\n",
            "| 에폭 171 |  반복 10 / 10 | 손실 0.19\n",
            "| 에폭 172 |  반복 10 / 10 | 손실 0.18\n",
            "| 에폭 173 |  반복 10 / 10 | 손실 0.18\n",
            "| 에폭 174 |  반복 10 / 10 | 손실 0.18\n",
            "| 에폭 175 |  반복 10 / 10 | 손실 0.18\n",
            "| 에폭 176 |  반복 10 / 10 | 손실 0.18\n",
            "| 에폭 177 |  반복 10 / 10 | 손실 0.18\n",
            "| 에폭 178 |  반복 10 / 10 | 손실 0.18\n",
            "| 에폭 179 |  반복 10 / 10 | 손실 0.17\n",
            "| 에폭 180 |  반복 10 / 10 | 손실 0.17\n",
            "| 에폭 181 |  반복 10 / 10 | 손실 0.18\n",
            "| 에폭 182 |  반복 10 / 10 | 손실 0.17\n",
            "| 에폭 183 |  반복 10 / 10 | 손실 0.18\n",
            "| 에폭 184 |  반복 10 / 10 | 손실 0.17\n",
            "| 에폭 185 |  반복 10 / 10 | 손실 0.17\n",
            "| 에폭 186 |  반복 10 / 10 | 손실 0.18\n",
            "| 에폭 187 |  반복 10 / 10 | 손실 0.17\n",
            "| 에폭 188 |  반복 10 / 10 | 손실 0.17\n",
            "| 에폭 189 |  반복 10 / 10 | 손실 0.17\n",
            "| 에폭 190 |  반복 10 / 10 | 손실 0.17\n",
            "| 에폭 191 |  반복 10 / 10 | 손실 0.16\n",
            "| 에폭 192 |  반복 10 / 10 | 손실 0.17\n",
            "| 에폭 193 |  반복 10 / 10 | 손실 0.16\n",
            "| 에폭 194 |  반복 10 / 10 | 손실 0.16\n",
            "| 에폭 195 |  반복 10 / 10 | 손실 0.16\n",
            "| 에폭 196 |  반복 10 / 10 | 손실 0.16\n",
            "| 에폭 197 |  반복 10 / 10 | 손실 0.16\n",
            "| 에폭 198 |  반복 10 / 10 | 손실 0.15\n",
            "| 에폭 199 |  반복 10 / 10 | 손실 0.16\n",
            "| 에폭 200 |  반복 10 / 10 | 손실 0.16\n",
            "| 에폭 201 |  반복 10 / 10 | 손실 0.15\n",
            "| 에폭 202 |  반복 10 / 10 | 손실 0.16\n",
            "| 에폭 203 |  반복 10 / 10 | 손실 0.16\n",
            "| 에폭 204 |  반복 10 / 10 | 손실 0.15\n",
            "| 에폭 205 |  반복 10 / 10 | 손실 0.16\n",
            "| 에폭 206 |  반복 10 / 10 | 손실 0.15\n",
            "| 에폭 207 |  반복 10 / 10 | 손실 0.15\n",
            "| 에폭 208 |  반복 10 / 10 | 손실 0.15\n",
            "| 에폭 209 |  반복 10 / 10 | 손실 0.15\n",
            "| 에폭 210 |  반복 10 / 10 | 손실 0.15\n",
            "| 에폭 211 |  반복 10 / 10 | 손실 0.15\n",
            "| 에폭 212 |  반복 10 / 10 | 손실 0.15\n",
            "| 에폭 213 |  반복 10 / 10 | 손실 0.15\n",
            "| 에폭 214 |  반복 10 / 10 | 손실 0.15\n",
            "| 에폭 215 |  반복 10 / 10 | 손실 0.15\n",
            "| 에폭 216 |  반복 10 / 10 | 손실 0.14\n",
            "| 에폭 217 |  반복 10 / 10 | 손실 0.14\n",
            "| 에폭 218 |  반복 10 / 10 | 손실 0.15\n",
            "| 에폭 219 |  반복 10 / 10 | 손실 0.14\n",
            "| 에폭 220 |  반복 10 / 10 | 손실 0.14\n",
            "| 에폭 221 |  반복 10 / 10 | 손실 0.14\n",
            "| 에폭 222 |  반복 10 / 10 | 손실 0.14\n",
            "| 에폭 223 |  반복 10 / 10 | 손실 0.14\n",
            "| 에폭 224 |  반복 10 / 10 | 손실 0.14\n",
            "| 에폭 225 |  반복 10 / 10 | 손실 0.14\n",
            "| 에폭 226 |  반복 10 / 10 | 손실 0.14\n",
            "| 에폭 227 |  반복 10 / 10 | 손실 0.14\n",
            "| 에폭 228 |  반복 10 / 10 | 손실 0.14\n",
            "| 에폭 229 |  반복 10 / 10 | 손실 0.13\n",
            "| 에폭 230 |  반복 10 / 10 | 손실 0.14\n",
            "| 에폭 231 |  반복 10 / 10 | 손실 0.13\n",
            "| 에폭 232 |  반복 10 / 10 | 손실 0.14\n",
            "| 에폭 233 |  반복 10 / 10 | 손실 0.13\n",
            "| 에폭 234 |  반복 10 / 10 | 손실 0.13\n",
            "| 에폭 235 |  반복 10 / 10 | 손실 0.13\n",
            "| 에폭 236 |  반복 10 / 10 | 손실 0.13\n",
            "| 에폭 237 |  반복 10 / 10 | 손실 0.14\n",
            "| 에폭 238 |  반복 10 / 10 | 손실 0.13\n",
            "| 에폭 239 |  반복 10 / 10 | 손실 0.13\n",
            "| 에폭 240 |  반복 10 / 10 | 손실 0.14\n",
            "| 에폭 241 |  반복 10 / 10 | 손실 0.13\n",
            "| 에폭 242 |  반복 10 / 10 | 손실 0.13\n",
            "| 에폭 243 |  반복 10 / 10 | 손실 0.13\n",
            "| 에폭 244 |  반복 10 / 10 | 손실 0.13\n",
            "| 에폭 245 |  반복 10 / 10 | 손실 0.13\n",
            "| 에폭 246 |  반복 10 / 10 | 손실 0.13\n",
            "| 에폭 247 |  반복 10 / 10 | 손실 0.13\n",
            "| 에폭 248 |  반복 10 / 10 | 손실 0.13\n",
            "| 에폭 249 |  반복 10 / 10 | 손실 0.13\n",
            "| 에폭 250 |  반복 10 / 10 | 손실 0.13\n",
            "| 에폭 251 |  반복 10 / 10 | 손실 0.13\n",
            "| 에폭 252 |  반복 10 / 10 | 손실 0.12\n",
            "| 에폭 253 |  반복 10 / 10 | 손실 0.12\n",
            "| 에폭 254 |  반복 10 / 10 | 손실 0.12\n",
            "| 에폭 255 |  반복 10 / 10 | 손실 0.12\n",
            "| 에폭 256 |  반복 10 / 10 | 손실 0.12\n",
            "| 에폭 257 |  반복 10 / 10 | 손실 0.12\n",
            "| 에폭 258 |  반복 10 / 10 | 손실 0.12\n",
            "| 에폭 259 |  반복 10 / 10 | 손실 0.13\n",
            "| 에폭 260 |  반복 10 / 10 | 손실 0.12\n",
            "| 에폭 261 |  반복 10 / 10 | 손실 0.13\n",
            "| 에폭 262 |  반복 10 / 10 | 손실 0.12\n",
            "| 에폭 263 |  반복 10 / 10 | 손실 0.12\n",
            "| 에폭 264 |  반복 10 / 10 | 손실 0.13\n",
            "| 에폭 265 |  반복 10 / 10 | 손실 0.12\n",
            "| 에폭 266 |  반복 10 / 10 | 손실 0.12\n",
            "| 에폭 267 |  반복 10 / 10 | 손실 0.12\n",
            "| 에폭 268 |  반복 10 / 10 | 손실 0.12\n",
            "| 에폭 269 |  반복 10 / 10 | 손실 0.11\n",
            "| 에폭 270 |  반복 10 / 10 | 손실 0.12\n",
            "| 에폭 271 |  반복 10 / 10 | 손실 0.12\n",
            "| 에폭 272 |  반복 10 / 10 | 손실 0.12\n",
            "| 에폭 273 |  반복 10 / 10 | 손실 0.12\n",
            "| 에폭 274 |  반복 10 / 10 | 손실 0.12\n",
            "| 에폭 275 |  반복 10 / 10 | 손실 0.11\n",
            "| 에폭 276 |  반복 10 / 10 | 손실 0.12\n",
            "| 에폭 277 |  반복 10 / 10 | 손실 0.12\n",
            "| 에폭 278 |  반복 10 / 10 | 손실 0.11\n",
            "| 에폭 279 |  반복 10 / 10 | 손실 0.11\n",
            "| 에폭 280 |  반복 10 / 10 | 손실 0.11\n",
            "| 에폭 281 |  반복 10 / 10 | 손실 0.11\n",
            "| 에폭 282 |  반복 10 / 10 | 손실 0.12\n",
            "| 에폭 283 |  반복 10 / 10 | 손실 0.11\n",
            "| 에폭 284 |  반복 10 / 10 | 손실 0.11\n",
            "| 에폭 285 |  반복 10 / 10 | 손실 0.11\n",
            "| 에폭 286 |  반복 10 / 10 | 손실 0.11\n",
            "| 에폭 287 |  반복 10 / 10 | 손실 0.11\n",
            "| 에폭 288 |  반복 10 / 10 | 손실 0.12\n",
            "| 에폭 289 |  반복 10 / 10 | 손실 0.11\n",
            "| 에폭 290 |  반복 10 / 10 | 손실 0.11\n",
            "| 에폭 291 |  반복 10 / 10 | 손실 0.11\n",
            "| 에폭 292 |  반복 10 / 10 | 손실 0.11\n",
            "| 에폭 293 |  반복 10 / 10 | 손실 0.11\n",
            "| 에폭 294 |  반복 10 / 10 | 손실 0.11\n",
            "| 에폭 295 |  반복 10 / 10 | 손실 0.12\n",
            "| 에폭 296 |  반복 10 / 10 | 손실 0.11\n",
            "| 에폭 297 |  반복 10 / 10 | 손실 0.12\n",
            "| 에폭 298 |  반복 10 / 10 | 손실 0.11\n",
            "| 에폭 299 |  반복 10 / 10 | 손실 0.11\n",
            "| 에폭 300 |  반복 10 / 10 | 손실 0.11\n"
          ]
        }
      ]
    },
    {
      "cell_type": "code",
      "source": [
        "# 학습 결과 plot\n",
        "plt.plot(np.arange(len(loss_list)), loss_list, label='train')\n",
        "plt.xlabel('epoch (x10)')\n",
        "plt.ylabel('loss')\n",
        "plt.show()"
      ],
      "metadata": {
        "colab": {
          "base_uri": "https://localhost:8080/",
          "height": 281
        },
        "id": "UefPXaBcPtEt",
        "outputId": "741424a5-995d-4d25-fc0e-96f5643896dc"
      },
      "execution_count": 27,
      "outputs": [
        {
          "output_type": "display_data",
          "data": {
            "image/png": "[encoded data removed]",
            "text/plain": [
              "<Figure size 432x288 with 1 Axes>"
            ]
          },
          "metadata": {
            "needs_background": "light"
          }
        }
      ]
    },
    {
      "cell_type": "code",
      "source": [
        "# 경계 영역(decision boundary) plot\n",
        "h = 0.001\n",
        "x_min, x_max = x[:, 0].min() - .1, x[:, 0].max() + .1\n",
        "y_min, y_max = x[:, 1].min() - .1, x[:, 1].max() + .1\n",
        "xx, yy = np.meshgrid(np.arange(x_min, x_max, h), np.arange(y_min, y_max, h))\n",
        "X = np.c_[xx.ravel(), yy.ravel()]\n",
        "score = model.predict(X)\n",
        "predict_cls = np.argmax(score, axis=1)\n",
        "Z = predict_cls.reshape(xx.shape)\n",
        "plt.contourf(xx, yy, Z)\n",
        "plt.axis('off')\n",
        "\n",
        "# 산점도 plot\n",
        "x, t = spiral.load_data()\n",
        "N = 100\n",
        "CLS_NUM = 3\n",
        "markers = ['o', 'x', '^']\n",
        "for i in range(CLS_NUM):\n",
        "    plt.scatter(x[i*N:(i+1)*N, 0], x[i*N:(i+1)*N, 1], s=40, marker=markers[i])\n",
        "plt.show()"
      ],
      "metadata": {
        "colab": {
          "base_uri": "https://localhost:8080/",
          "height": 248
        },
        "id": "Uv4gyA8FQODu",
        "outputId": "7111ceb6-f25f-4fb9-ec58-fd40e443c1c7"
      },
      "execution_count": 28,
      "outputs": [
        {
          "output_type": "display_data",
          "data": {
            "image/png": "[encoded data removed]",
            "text/plain": [
              "<Figure size 432x288 with 1 Axes>"
            ]
          },
          "metadata": {
            "needs_background": "light"
          }
        }
      ]
    },
    {
      "cell_type": "markdown",
      "source": [
        "# **계산 고속화**"
      ],
      "metadata": {
        "id": "WeKbfXDNQVQJ"
      }
    },
    {
      "cell_type": "markdown",
      "source": [
        "## **비트 정밀도**"
      ],
      "metadata": {
        "id": "nEpnwNtLQqdk"
      }
    },
    {
      "cell_type": "code",
      "source": [
        "a = np.random.randn(3)\n",
        "a.dtype"
      ],
      "metadata": {
        "colab": {
          "base_uri": "https://localhost:8080/"
        },
        "id": "xKMD8FmcQvzT",
        "outputId": "39591f9c-a957-418e-d9e8-b857e7c95316"
      },
      "execution_count": 29,
      "outputs": [
        {
          "output_type": "execute_result",
          "data": {
            "text/plain": [
              "dtype('float64')"
            ]
          },
          "metadata": {},
          "execution_count": 29
        }
      ]
    },
    {
      "cell_type": "code",
      "source": [
        "# 메모리/계산 속도 관점에서 유리한 32비트\n",
        "\n",
        "b = np.random.randn(3).astype(np.float32)\n",
        "b.dtype"
      ],
      "metadata": {
        "colab": {
          "base_uri": "https://localhost:8080/"
        },
        "id": "LqbcLlT3QyqU",
        "outputId": "8cfb7bce-4ebb-4ed4-ae9f-13d59a849e7b"
      },
      "execution_count": 30,
      "outputs": [
        {
          "output_type": "execute_result",
          "data": {
            "text/plain": [
              "dtype('float32')"
            ]
          },
          "metadata": {},
          "execution_count": 30
        }
      ]
    },
    {
      "cell_type": "code",
      "source": [
        "c = np.random.randn(3).astype('f')\n",
        "c.dtype"
      ],
      "metadata": {
        "colab": {
          "base_uri": "https://localhost:8080/"
        },
        "id": "Oa8aeQfsRCwg",
        "outputId": "278d97b5-b94b-4533-855c-c2bd04a64928"
      },
      "execution_count": 31,
      "outputs": [
        {
          "output_type": "execute_result",
          "data": {
            "text/plain": [
              "dtype('float32')"
            ]
          },
          "metadata": {},
          "execution_count": 31
        }
      ]
    },
    {
      "cell_type": "markdown",
      "source": [
        "## **GPU(쿠파이)**"
      ],
      "metadata": {
        "id": "NGj8O8cXRE2U"
      }
    },
    {
      "cell_type": "code",
      "source": [
        "import cupy as cp # GPU 필요\n",
        "\n",
        "x = cp.arange(6).reshape(2, 3).astype('f')\n",
        "x"
      ],
      "metadata": {
        "colab": {
          "base_uri": "https://localhost:8080/"
        },
        "id": "zanUVUUlRXFA",
        "outputId": "b3963b69-69f4-4778-af19-195327ce5504"
      },
      "execution_count": 35,
      "outputs": [
        {
          "output_type": "execute_result",
          "data": {
            "text/plain": [
              "array([[0., 1., 2.],\n",
              "       [3., 4., 5.]], dtype=float32)"
            ]
          },
          "metadata": {},
          "execution_count": 35
        }
      ]
    },
    {
      "cell_type": "markdown",
      "source": [
        "# **정리**"
      ],
      "metadata": {
        "id": "OUMAnPzQSZhc"
      }
    },
    {
      "cell_type": "markdown",
      "source": [
        "* **신경망은 입력층, 은닉층(중간층), 출력층을 지닌다.**\n",
        "* **완전연결계층에 의해 선형 변환이 이뤄지고, 활성화 함수에 의해 비선형 변환이 이뤄진다.**\n",
        "* **완전연결계층이나 미니배치 처리는 행렬로 모아 한꺼번에 계산할 수 있다.**\n",
        "* **오차역전파법을 사용하여 신경망의 손실에 관한 기울기를 효율적으로 구할 수 있다.**\n",
        "* **신경망이 수행하는 처리는 계산 그래프로 시각화할 수 있으며, 순전파와 역전파를 이해하는데 도움이 된다.**\n",
        "* **신경망의 구성요소들을 '계층'으로 모듈화해두면, 이를 조립하여 신경망을 쉽게 구성할 수 있다.**\n",
        "* **신경망 고속화에는 GPU를 이용한 병렬 계산과 데이터의 비트 정밀도가 중요하다.**"
      ],
      "metadata": {
        "id": "X4M15MGsS3La"
      }
    }
  ]
}